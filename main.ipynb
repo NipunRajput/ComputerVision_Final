{
 "cells": [
  {
   "cell_type": "code",
   "execution_count": 1,
   "metadata": {},
   "outputs": [
    {
     "name": "stdout",
     "output_type": "stream",
     "text": [
      " * Serving Flask app '__main__' (lazy loading)\n",
      " * Environment: production\n",
      "\u001b[31m   WARNING: This is a development server. Do not use it in a production deployment.\u001b[0m\n",
      "\u001b[2m   Use a production WSGI server instead.\u001b[0m\n",
      " * Debug mode: on\n"
     ]
    },
    {
     "name": "stderr",
     "output_type": "stream",
     "text": [
      "WARNING: This is a development server. Do not use it in a production deployment. Use a production WSGI server instead.\n",
      " * Running on all addresses (0.0.0.0)\n",
      " * Running on http://127.0.0.1:5000\n",
      " * Running on http://10.7.20.154:5000\n",
      "Press CTRL+C to quit\n",
      "10.7.20.154 - - [29/Nov/2024 18:35:55] \"GET /get_distance HTTP/1.1\" 200 -\n",
      "10.7.20.154 - - [29/Nov/2024 18:35:58] \"GET /get_distance HTTP/1.1\" 200 -\n",
      "10.7.20.154 - - [29/Nov/2024 18:36:05] \"GET /get_distance HTTP/1.1\" 200 -\n",
      "10.7.20.154 - - [29/Nov/2024 18:38:12] \"GET /get_distance HTTP/1.1\" 200 -\n",
      "10.7.20.154 - - [29/Nov/2024 18:38:15] \"GET /get_distance HTTP/1.1\" 200 -\n",
      "10.7.20.154 - - [29/Nov/2024 18:38:17] \"GET /get_distance HTTP/1.1\" 200 -\n",
      "10.7.20.154 - - [29/Nov/2024 18:38:20] \"GET /get_distance HTTP/1.1\" 200 -\n",
      "10.7.20.154 - - [29/Nov/2024 18:38:23] \"GET /get_distance HTTP/1.1\" 200 -\n",
      "10.7.20.154 - - [29/Nov/2024 18:38:25] \"GET /get_distance HTTP/1.1\" 200 -\n",
      "10.7.20.154 - - [29/Nov/2024 18:38:28] \"GET /get_distance HTTP/1.1\" 200 -\n",
      "10.7.20.154 - - [29/Nov/2024 18:41:12] \"GET /get_distance HTTP/1.1\" 200 -\n",
      "10.7.20.154 - - [29/Nov/2024 18:41:16] \"GET /get_distance HTTP/1.1\" 200 -\n",
      "10.7.20.154 - - [29/Nov/2024 18:41:20] \"GET /get_distance HTTP/1.1\" 200 -\n",
      "10.7.20.154 - - [29/Nov/2024 18:41:24] \"GET /get_distance HTTP/1.1\" 200 -\n",
      "10.7.20.154 - - [29/Nov/2024 18:41:28] \"GET /get_distance HTTP/1.1\" 200 -\n",
      "10.7.20.154 - - [29/Nov/2024 18:41:31] \"GET /get_distance HTTP/1.1\" 200 -\n",
      "10.7.20.154 - - [29/Nov/2024 18:41:36] \"GET /get_distance HTTP/1.1\" 200 -\n",
      "10.7.20.154 - - [29/Nov/2024 18:41:39] \"GET /get_distance HTTP/1.1\" 200 -\n",
      "10.7.20.154 - - [29/Nov/2024 18:43:58] \"GET /get_distance HTTP/1.1\" 200 -\n",
      "10.7.20.154 - - [29/Nov/2024 18:44:06] \"GET /get_distance HTTP/1.1\" 200 -\n",
      "10.7.20.154 - - [29/Nov/2024 18:44:16] \"GET /get_distance HTTP/1.1\" 200 -\n",
      "10.7.20.154 - - [29/Nov/2024 18:44:23] \"GET /get_distance HTTP/1.1\" 200 -\n",
      "10.7.20.154 - - [29/Nov/2024 18:44:30] \"GET /get_distance HTTP/1.1\" 200 -\n",
      "10.7.20.154 - - [29/Nov/2024 18:44:35] \"GET /get_distance HTTP/1.1\" 200 -\n",
      "10.7.20.154 - - [29/Nov/2024 18:45:06] \"GET /get_distance HTTP/1.1\" 200 -\n",
      "10.7.20.154 - - [29/Nov/2024 18:45:16] \"GET /get_distance HTTP/1.1\" 200 -\n"
     ]
    }
   ],
   "source": [
    "from flask import Flask, jsonify\n",
    "from flask_cors import CORS  # Import CORS\n",
    "import cv2\n",
    "\n",
    "app = Flask(__name__)\n",
    "CORS(app)  # Enable CORS for all routes\n",
    "\n",
    "def calculate_face_distance():\n",
    "    cap = cv2.VideoCapture(0)\n",
    "    if not cap.isOpened():\n",
    "        return {'error': 'Camera access failed'}\n",
    "\n",
    "    ret, frame = cap.read()\n",
    "    if not ret:\n",
    "        cap.release()\n",
    "        return {'error': 'Failed to capture frame from camera'}\n",
    "\n",
    "    face_cascade = cv2.CascadeClassifier(cv2.data.haarcascades + 'haarcascade_frontalface_default.xml')\n",
    "    gray = cv2.cvtColor(frame, cv2.COLOR_BGR2GRAY)\n",
    "    faces = face_cascade.detectMultiScale(gray, 1.1, 4)\n",
    "\n",
    "    if len(faces) > 0:\n",
    "        (x, y, w, h) = faces[0]\n",
    "        distance = 100.0 / w  # Mock calculation\n",
    "        cap.release()\n",
    "        return {'distance': distance}\n",
    "    else:\n",
    "        cap.release()\n",
    "        return {'error': 'No face detected'}\n",
    "\n",
    "@app.route('/get_distance', methods=['GET'])\n",
    "def get_distance():\n",
    "    result = calculate_face_distance()\n",
    "    return jsonify(result)\n",
    "\n",
    "if __name__ == \"__main__\":\n",
    "    app.run(host='0.0.0.0', port=5000, debug=True, use_reloader=False)\n"
   ]
  }
 ],
 "metadata": {
  "kernelspec": {
   "display_name": "Python 3",
   "language": "python",
   "name": "python3"
  },
  "language_info": {
   "codemirror_mode": {
    "name": "ipython",
    "version": 3
   },
   "file_extension": ".py",
   "mimetype": "text/x-python",
   "name": "python",
   "nbconvert_exporter": "python",
   "pygments_lexer": "ipython3",
   "version": "3.10.7"
  }
 },
 "nbformat": 4,
 "nbformat_minor": 2
}
